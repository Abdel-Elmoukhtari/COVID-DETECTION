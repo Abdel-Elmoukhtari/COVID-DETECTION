{
 "cells": [
  {
   "cell_type": "code",
   "execution_count": null,
   "metadata": {
    "id": "o1F_l7gz8_y5"
   },
   "outputs": [],
   "source": [
    "# install tensorflow version 2\n",
    "%tensorflow_version 2.x\n"
   ]
  },
  {
   "cell_type": "code",
   "execution_count": 2,
   "metadata": {
    "id": "_cNzojt09OoX"
   },
   "outputs": [],
   "source": [
    "# Importing librar\n",
    "\n",
    "import tensorflow.keras\n",
    "from tensorflow.keras.models import Model\n",
    "from tensorflow.keras.layers import Input, Dense, Activation, Flatten, Conv2D, MaxPool2D, Dropout\n",
    "from tensorflow.keras.optimizers import Adam \n",
    "from tensorflow.keras.preprocessing.image import ImageDataGenerator\n",
    "from tensorflow.keras.losses import binary_crossentropy\n",
    "from tensorflow.keras import metrics\n",
    "import matplotlib.pyplot as plt\n",
    "from sklearn.metrics import classification_report, confusion_matrix, plot_confusion_matrix, ConfusionMatrixDisplay\n",
    "import numpy as np\n"
   ]
  },
  {
   "cell_type": "code",
   "execution_count": null,
   "metadata": {
    "id": "3k-KAqd7KvHa"
   },
   "outputs": [],
   "source": [
    "# Create path\n",
    "\n",
    "train_loc = '../our_DATA/train/'\n",
    "test_loc = '../our_DATA/val/'"
   ]
  },
  {
   "cell_type": "code",
   "execution_count": null,
   "metadata": {
    "colab": {
     "base_uri": "https://localhost:8080/",
     "height": 51
    },
    "id": "EC1fsx7htAeC",
    "outputId": "0f871932-5604-4c0b-c1a9-14ac6882f7a8"
   },
   "outputs": [
    {
     "name": "stdout",
     "output_type": "stream",
     "text": [
      "Found 250 images belonging to 2 classes.\n",
      "Found 110 images belonging to 2 classes.\n"
     ]
    }
   ],
   "source": [
    "# resize images \n",
    "\n",
    "trdata = ImageDataGenerator(rescale= 1./255,\n",
    "                            shear_range = 0.2,\n",
    "                            zoom_range = 0.2,\n",
    "                            horizontal_flip = True,\n",
    ")\n",
    "\n",
    "traindata = trdata.flow_from_directory(directory = train_loc, target_size = (224,224))\n",
    "\n",
    "tsdata = ImageDataGenerator(rescale= 1./255,\n",
    "                            shear_range = 0.2,\n",
    "                            zoom_range = 0.2,\n",
    "                            horizontal_flip = True,\n",
    ")\n",
    "\n",
    "testdata = tsdata.flow_from_directory(directory = test_loc, target_size = (224,224))"
   ]
  },
  {
   "cell_type": "code",
   "execution_count": null,
   "metadata": {
    "colab": {
     "base_uri": "https://localhost:8080/",
     "height": 34
    },
    "id": "ZDtu3ZOCusKp",
    "outputId": "972ff360-89d6-47e7-8572-4cf50480e50d"
   },
   "outputs": [
    {
     "data": {
      "text/plain": [
       "{'COVID+': 0, 'COVID-': 1}"
      ]
     },
     "execution_count": 8,
     "metadata": {
      "tags": []
     },
     "output_type": "execute_result"
    }
   ],
   "source": [
    "traindata.class_indices"
   ]
  },
  {
   "cell_type": "code",
   "execution_count": null,
   "metadata": {
    "id": "Wm6wOtr2rqlf"
   },
   "outputs": [],
   "source": [
    "# define input image\n",
    "input_shape = (224,224,3)\n",
    "\n",
    "# create the Network\n",
    "# Input layer\n",
    "img_imput = Input(shape  = input_shape, name = 'img_input')\n",
    "\n",
    "# Convo layers\n",
    "x = Conv2D(32, (3,3) , padding = 'same' , activation='relu', name = 'layer_1') (img_imput)\n",
    "x = Conv2D(64, (3,3) , padding = 'same' , activation='relu', name = 'layer_2') (x)\n",
    "x = MaxPool2D((2,2), strides=(2,2), name = 'layer_3') (x)\n",
    "x = Dropout(0.25)(x)\n",
    "\n",
    "x = Conv2D(64, (3,3) , padding = 'same' , activation='relu', name = 'layer_4') (x)\n",
    "x = MaxPool2D((2,2), strides=(2,2), name = 'layer_5') (x)\n",
    "x = Dropout(0.25)(x)\n",
    "\n",
    "x = Conv2D(128, (3,3) , padding = 'same' , activation='relu', name = 'layer_6') (x)\n",
    "x = MaxPool2D((2,2), strides=(2,2), name = 'layer_7') (x)\n",
    "x = Dropout(0.25)(x)\n",
    "\n",
    "x = Flatten(name = 'fc_1')(x)\n",
    "x= Dense(64, name = 'lyaer_8')(x)\n",
    "x = Dropout(0.5) (x)\n",
    "x = Dense(2, activation='sigmoid', name='predictions')(x)\n"
   ]
  },
  {
   "cell_type": "code",
   "execution_count": null,
   "metadata": {
    "id": "w6tNCpljC2y9"
   },
   "outputs": [],
   "source": [
    "# Generate the model\n",
    "model = Model(inputs = img_imput, outputs =x , name='CNN_COVID_19')"
   ]
  },
  {
   "cell_type": "code",
   "execution_count": null,
   "metadata": {
    "colab": {
     "base_uri": "https://localhost:8080/",
     "height": 663
    },
    "id": "GqI1sriXDUZl",
    "outputId": "2329f691-7314-467d-fd95-65ccac67faa2"
   },
   "outputs": [
    {
     "name": "stdout",
     "output_type": "stream",
     "text": [
      "Model: \"CNN_COVID_19\"\n",
      "_________________________________________________________________\n",
      "Layer (type)                 Output Shape              Param #   \n",
      "=================================================================\n",
      "img_input (InputLayer)       [(None, 224, 224, 3)]     0         \n",
      "_________________________________________________________________\n",
      "layer_1 (Conv2D)             (None, 224, 224, 32)      896       \n",
      "_________________________________________________________________\n",
      "layer_2 (Conv2D)             (None, 224, 224, 64)      18496     \n",
      "_________________________________________________________________\n",
      "layer_3 (MaxPooling2D)       (None, 112, 112, 64)      0         \n",
      "_________________________________________________________________\n",
      "dropout (Dropout)            (None, 112, 112, 64)      0         \n",
      "_________________________________________________________________\n",
      "layer_4 (Conv2D)             (None, 112, 112, 64)      36928     \n",
      "_________________________________________________________________\n",
      "layer_5 (MaxPooling2D)       (None, 56, 56, 64)        0         \n",
      "_________________________________________________________________\n",
      "dropout_1 (Dropout)          (None, 56, 56, 64)        0         \n",
      "_________________________________________________________________\n",
      "layer_6 (Conv2D)             (None, 56, 56, 128)       73856     \n",
      "_________________________________________________________________\n",
      "layer_7 (MaxPooling2D)       (None, 28, 28, 128)       0         \n",
      "_________________________________________________________________\n",
      "dropout_2 (Dropout)          (None, 28, 28, 128)       0         \n",
      "_________________________________________________________________\n",
      "fc_1 (Flatten)               (None, 100352)            0         \n",
      "_________________________________________________________________\n",
      "lyaer_8 (Dense)              (None, 64)                6422592   \n",
      "_________________________________________________________________\n",
      "dropout_3 (Dropout)          (None, 64)                0         \n",
      "_________________________________________________________________\n",
      "predictions (Dense)          (None, 2)                 130       \n",
      "=================================================================\n",
      "Total params: 6,552,898\n",
      "Trainable params: 6,552,898\n",
      "Non-trainable params: 0\n",
      "_________________________________________________________________\n"
     ]
    }
   ],
   "source": [
    "# Print network structure\n",
    "model.summary()"
   ]
  },
  {
   "cell_type": "code",
   "execution_count": null,
   "metadata": {
    "id": "5pd2mB0_E17s"
   },
   "outputs": [],
   "source": [
    "# Compiling the model\n",
    "model.compile(optimizer='adam', loss=binary_crossentropy, metrics=['accuracy'])"
   ]
  },
  {
   "cell_type": "code",
   "execution_count": null,
   "metadata": {
    "colab": {
     "base_uri": "https://localhost:8080/",
     "height": 394
    },
    "id": "DDbX-f48S6kN",
    "outputId": "4b2701ed-d4e8-4781-b452-411296ece4f1"
   },
   "outputs": [
    {
     "name": "stdout",
     "output_type": "stream",
     "text": [
      "Epoch 1/10\n",
      "2/9 [=====>........................] - ETA: 0s - loss: 1.4879 - accuracy: 0.4688WARNING:tensorflow:Callbacks method `on_train_batch_end` is slow compared to the batch time (batch time: 0.0876s vs `on_train_batch_end` time: 0.1500s). Check your callbacks.\n",
      "9/9 [==============================] - 160s 18s/step - loss: 1.0056 - accuracy: 0.5590 - val_loss: 0.6134 - val_accuracy: 0.8281\n",
      "Epoch 2/10\n",
      "9/9 [==============================] - 12s 1s/step - loss: 0.5338 - accuracy: 0.7083 - val_loss: 0.4882 - val_accuracy: 0.8594\n",
      "Epoch 3/10\n",
      "9/9 [==============================] - 13s 1s/step - loss: 0.3653 - accuracy: 0.8646 - val_loss: 0.2873 - val_accuracy: 0.9062\n",
      "Epoch 4/10\n",
      "9/9 [==============================] - 13s 1s/step - loss: 0.2758 - accuracy: 0.8993 - val_loss: 0.2798 - val_accuracy: 0.9062\n",
      "Epoch 5/10\n",
      "9/9 [==============================] - 13s 1s/step - loss: 0.1602 - accuracy: 0.9410 - val_loss: 0.1673 - val_accuracy: 0.9531\n",
      "Epoch 6/10\n",
      "9/9 [==============================] - 13s 1s/step - loss: 0.1166 - accuracy: 0.9688 - val_loss: 0.1088 - val_accuracy: 0.9531\n",
      "Epoch 7/10\n",
      "9/9 [==============================] - 12s 1s/step - loss: 0.1411 - accuracy: 0.9583 - val_loss: 0.0950 - val_accuracy: 1.0000\n",
      "Epoch 8/10\n",
      "9/9 [==============================] - 13s 1s/step - loss: 0.1173 - accuracy: 0.9757 - val_loss: 0.0912 - val_accuracy: 0.9844\n",
      "Epoch 9/10\n",
      "9/9 [==============================] - 13s 1s/step - loss: 0.1054 - accuracy: 0.9792 - val_loss: 0.1024 - val_accuracy: 0.9688\n",
      "Epoch 10/10\n",
      "9/9 [==============================] - 13s 1s/step - loss: 0.0636 - accuracy: 0.9861 - val_loss: 0.0574 - val_accuracy: 0.9844\n"
     ]
    }
   ],
   "source": [
    "# start Train/Test\n",
    "batch_size = 32\n",
    "hist = model.fit(traindata, steps_per_epoch = traindata.samples//batch_size,\n",
    "                 validation_data = testdata,validation_steps = testdata.samples//batch_size,\n",
    "                 epochs = 10\n",
    "                 )"
   ]
  },
  {
   "cell_type": "code",
   "execution_count": null,
   "metadata": {
    "colab": {
     "base_uri": "https://localhost:8080/",
     "height": 281
    },
    "id": "zN1W4RqGc4mn",
    "outputId": "f48eb149-40f4-48ec-b5bb-d4e336fe6144"
   },
   "outputs": [
    {
     "data": {
      "image/png": "[encoded data removed]",
      "text/plain": [
       "<Figure size 432x288 with 1 Axes>"
      ]
     },
     "metadata": {
      "needs_background": "light",
      "tags": []
     },
     "output_type": "display_data"
    }
   ],
   "source": [
    "plt.plot(hist.history['loss'], label = 'train')\n",
    "plt.plot(hist.history['val_loss'], label = 'val')\n",
    "plt.title('CNN_COVID_19 :  Loss  &  Validation Loss')\n",
    "plt.legend()\n",
    "plt.show()"
   ]
  },
  {
   "cell_type": "code",
   "execution_count": null,
   "metadata": {
    "colab": {
     "base_uri": "https://localhost:8080/",
     "height": 281
    },
    "id": "KQiOkEcad_4X",
    "outputId": "3b596be0-d119-4c3e-89ad-b9aa4fa0ef56"
   },
   "outputs": [
    {
     "data": {
      "image/png": "[encoded data removed]",
      "text/plain": [
       "<Figure size 432x288 with 1 Axes>"
      ]
     },
     "metadata": {
      "needs_background": "light",
      "tags": []
     },
     "output_type": "display_data"
    }
   ],
   "source": [
    "plt.plot(hist.history['accuracy'], label = 'train')\n",
    "plt.plot(hist.history['val_accuracy'], label = 'val')\n",
    "plt.title('CNN_COVID_19 :  Accuracy  &  Validation Accuracy')\n",
    "plt.legend()\n",
    "plt.show()"
   ]
  },
  {
   "cell_type": "code",
   "execution_count": null,
   "metadata": {
    "colab": {
     "base_uri": "https://localhost:8080/",
     "height": 504
    },
    "id": "QgVsbP3Ktvwu",
    "outputId": "0e2c92de-ce97-4174-dcba-21e5a0dee6e5"
   },
   "outputs": [
    {
     "name": "stdout",
     "output_type": "stream",
     "text": [
      "Confusion Matrix\n",
      "[[19 17]\n",
      " [18 18]]\n",
      "classification_Report\n",
      "              precision    recall  f1-score   support\n",
      "\n",
      "    Abnormal       0.51      0.53      0.52        36\n",
      "      Normal       0.51      0.50      0.51        36\n",
      "\n",
      "    accuracy                           0.51        72\n",
      "   macro avg       0.51      0.51      0.51        72\n",
      "weighted avg       0.51      0.51      0.51        72\n",
      "\n"
     ]
    },
    {
     "data": {
      "image/png": "[encoded data removed]",
      "text/plain": [
       "<Figure size 432x288 with 2 Axes>"
      ]
     },
     "metadata": {
      "needs_background": "light",
      "tags": []
     },
     "output_type": "display_data"
    }
   ],
   "source": [
    "# Confusion Matrix  & Pres  & Recall   & F1-Score\n",
    "\n",
    "target_names = ['COVID+', 'COVID-']\n",
    "label_names = [0,1]\n",
    "\n",
    "Y_pred = model.predict_generator(testdata)\n",
    "y_pred = np.argmax(Y_pred ,  axis = 1)\n",
    "\n",
    "cm = confusion_matrix(testdata.classes, y_pred, labels = label_names)\n",
    "\n",
    "\n",
    "print('Confusion Matrix')\n",
    "print(confusion_matrix(testdata.classes, y_pred))\n",
    "\n",
    "print('classification_Report')\n",
    "print(classification_report(testdata.classes, y_pred, target_names=target_names))\n",
    "\n",
    "disp = ConfusionMatrixDisplay(confusion_matrix= cm, display_labels=target_names)\n",
    "disp = disp.plot(cmap=plt.cm.Blues, values_format = 'g')\n",
    "plt.show()\n"
   ]
  },
  {
   "cell_type": "code",
   "execution_count": null,
   "metadata": {
    "id": "YPmai1gLEnvT"
   },
   "outputs": [],
   "source": []
  }
 ],
 "metadata": {
  "accelerator": "GPU",
  "colab": {
   "provenance": []
  },
  "kernelspec": {
   "display_name": "Python 3 (ipykernel)",
   "language": "python",
   "name": "python3"
  },
  "language_info": {
   "codemirror_mode": {
    "name": "ipython",
    "version": 3
   },
   "file_extension": ".py",
   "mimetype": "text/x-python",
   "name": "python",
   "nbconvert_exporter": "python",
   "pygments_lexer": "ipython3",
   "version": "3.8.6"
  }
 },
 "nbformat": 4,
 "nbformat_minor": 1
}
